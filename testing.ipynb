{
 "cells": [
  {
   "cell_type": "code",
   "execution_count": null,
   "id": "c3f60d11",
   "metadata": {},
   "outputs": [],
   "source": [
    "#importing the required libraries\n",
    "import os\n",
    "from dotenv import load_dotenv\n",
    "from llama_index.llms.groq import Groq\n",
    "from llama_index.embeddings.huggingface import HuggingFaceEmbedding\n",
    "from llama_index.core import Settings, SimpleDirectoryReader, VectorStoreIndex\n",
    "from llama_index.core.memory import ChatMemoryBuffer\n",
    "from llama_index.core.chat_engine import CondensePlusContextChatEngine\n",
    "\n",
    "\n",
    "load_dotenv()"
   ]
  },
  {
   "cell_type": "code",
   "execution_count": null,
   "metadata": {},
   "outputs": [],
   "source": [
    "groq_api_key= os.getenv('GROQ_API_KEY')\n",
    "\n",
    "llm = Groq(model=\"llama-3.3-70b-versatile\",api_key= groq_api_key)\n",
    "embed_model = HuggingFaceEmbedding(model_name= \"sentence-transformers/all-MiniLM-L6-v2\")\n",
    "\n",
    "Settings.llm = llm\n",
    "Settings.embed_model = embed_model"
   ]
  },
  {
   "cell_type": "code",
   "execution_count": null,
   "id": "8fe29a63",
   "metadata": {},
   "outputs": [],
   "source": [
    "data_loded = SimpleDirectoryReader('./',required_exts=[\".pdf\",\".docx\"]).load_data()\n",
    "index = VectorStoreIndex.from_documents(data_loded)\n",
    "\n",
    "query_engine = index.as_query_engine(similarity_top_k = 3)"
   ]
  },
  {
   "cell_type": "code",
   "execution_count": 63,
   "id": "909d6f22",
   "metadata": {},
   "outputs": [],
   "source": [
    "response = query_engine.query(\"What is Selective Abortion\")"
   ]
  },
  {
   "cell_type": "code",
   "execution_count": 64,
   "id": "2e824277",
   "metadata": {},
   "outputs": [
    {
     "data": {
      "text/plain": [
       "'Selective abortion, also known as selective reduction, refers to choosing to abort a fetus, typically in a multi-fetal pregnancy, to decrease the health risks to the mother in carrying and giving birth to more than one or two babies, and also to decrease the risk of complications to the remaining fetus(es). It also refers to choosing to abort a fetus for reasons such as the woman is carrying a fetus which likely will be born with some birth defect or impairment, or because the sex of the fetus is not preferred by the individual.'"
      ]
     },
     "execution_count": 64,
     "metadata": {},
     "output_type": "execute_result"
    }
   ],
   "source": [
    "response.response"
   ]
  },
  {
   "cell_type": "code",
   "execution_count": 65,
   "id": "ebc43303",
   "metadata": {},
   "outputs": [],
   "source": [
    "memory = ChatMemoryBuffer(token_limit=3900)\n",
    "chat_engine = CondensePlusContextChatEngine.from_defaults(\n",
    "    index.as_retriever(),\n",
    "    memory=memory,\n",
    "    llm=llm\n",
    ")"
   ]
  },
  {
   "cell_type": "code",
   "execution_count": 40,
   "id": "5210f686",
   "metadata": {},
   "outputs": [],
   "source": [
    "response = chat_engine.chat(\"What tools are suitable for data warehousing?\")"
   ]
  },
  {
   "cell_type": "code",
   "execution_count": 41,
   "id": "253c3982",
   "metadata": {},
   "outputs": [
    {
     "name": "stdout",
     "output_type": "stream",
     "text": [
      "Based on the provided documents, the following tools are mentioned as suitable for data warehousing:\n",
      "\n",
      "1. Snowflake: a cloud-based data warehouse that enables the storage, processing, and analytical querying of large volumes of data.\n",
      "2. PostgreSQL: a powerful open-source relational database management system (RDBMS) that can also be used as a data warehouse for storing, managing, and analyzing large volumes of structured data.\n",
      "\n",
      "Additionally, dbt (data build tool) is mentioned as a tool that supports all major data warehouses, including Snowflake and PostgreSQL, and can be used to facilitate data transformation workflow and modeling in a data warehouse environment.\n",
      "\n",
      "It's worth noting that while PostgreSQL can be used as a data warehouse, it is a local solution that may not scale as well as some fully managed solutions, and requires more manual administration and maintenance.\n"
     ]
    }
   ],
   "source": [
    "print(str(response))"
   ]
  },
  {
   "cell_type": "code",
   "execution_count": 42,
   "id": "b42f9f15",
   "metadata": {},
   "outputs": [
    {
     "name": "stdout",
     "output_type": "stream",
     "text": [
      "Based on the provided documents, the following tools are mentioned as suitable for data processing:\n",
      "\n",
      "1. Apache Spark: a powerful open-source distributed computing framework designed for large-scale data processing and analysis. It is highly scalable and fast, making it ideal for batch processing in data engineering tasks.\n",
      "2. Apache Hadoop: a popular open-source framework for distributed storage and processing of large datasets. It offers cost-effective storage, fault tolerance, distributed processing capabilities, and seamless integration with other data processing tools.\n",
      "3. Apache Kafka: a distributed event streaming platform designed for high-performance, real-time data processing and streamlining of large-scale data pipelines.\n",
      "4. Apache Flink: an open-source platform for distributed stream and batch processing. It can process data streams in real-time, making it a popular choice for building streaming data pipelines and real-time analytics applications.\n",
      "\n",
      "These tools can be used for various aspects of data processing, including batch processing, real-time processing, and stream processing. They are designed to handle large volumes of data and provide efficient and scalable data processing capabilities.\n"
     ]
    }
   ],
   "source": [
    "response = chat_engine.chat(\"What tools are suitable for data processing?\")\n",
    "print(str(response))"
   ]
  },
  {
   "cell_type": "code",
   "execution_count": 43,
   "id": "02103970",
   "metadata": {},
   "outputs": [
    {
     "name": "stdout",
     "output_type": "stream",
     "text": [
      "Here's a high-level diagram of a data pipeline using the tools mentioned:\n",
      "\n",
      "```\n",
      "                                      +---------------+\n",
      "                                      |  Data Sources  |\n",
      "                                      +---------------+\n",
      "                                             |\n",
      "                                             |\n",
      "                                             v\n",
      "                                      +---------------+\n",
      "                                      |  Apache Kafka  |\n",
      "                                      |  (Data Ingestion) |\n",
      "                                      +---------------+\n",
      "                                             |\n",
      "                                             |\n",
      "                                             v\n",
      "                                      +---------------+\n",
      "                                      |  Apache Spark   |\n",
      "                                      |  (Data Processing) |\n",
      "                                      +---------------+\n",
      "                                             |\n",
      "                                             |\n",
      "                                             v\n",
      "                                      +---------------+\n",
      "                                      |  Apache Hadoop  |\n",
      "                                      |  (Data Storage)    |\n",
      "                                      +---------------+\n",
      "                                             |\n",
      "                                             |\n",
      "                                             v\n",
      "                                      +---------------+\n",
      "                                      |  Apache Flink   |\n",
      "                                      |  (Real-time Analytics) |\n",
      "                                      +---------------+\n",
      "                                             |\n",
      "                                             |\n",
      "                                             v\n",
      "                                      +---------------+\n",
      "                                      |  Data Warehouse  |\n",
      "                                      |  (e.g. Snowflake,  |\n",
      "                                      |   PostgreSQL)     |\n",
      "                                      +---------------+\n",
      "                                             |\n",
      "                                             |\n",
      "                                             v\n",
      "                                      +---------------+\n",
      "                                      |  Data Visualization|\n",
      "                                      |  (e.g. Tableau,     |\n",
      "                                      |   Power BI)        |\n",
      "                                      +---------------+\n",
      "```\n",
      "\n",
      "Here's a brief description of each component:\n",
      "\n",
      "1. **Data Sources**: These are the systems that generate the data, such as logs, sensors, or applications.\n",
      "2. **Apache Kafka**: This is the data ingestion layer, responsible for collecting data from the sources and streaming it into the pipeline.\n",
      "3. **Apache Spark**: This is the data processing layer, responsible for transforming, aggregating, and filtering the data.\n",
      "4. **Apache Hadoop**: This is the data storage layer, responsible for storing the processed data in a distributed file system.\n",
      "5. **Apache Flink**: This is the real-time analytics layer, responsible for processing the data in real-time and generating insights.\n",
      "6. **Data Warehouse**: This is the storage layer for the processed data, where it can be queried and analyzed.\n",
      "7. **Data Visualization**: This is the presentation layer, responsible for displaying the insights and data to the end-users.\n",
      "\n",
      "Note that this is just one possible architecture, and the actual implementation may vary depending on the specific use case and requirements.\n"
     ]
    }
   ],
   "source": [
    "response = chat_engine.chat(\"Can you create a diagram of a data pipeline using these tools?\")\n",
    "print(str(response))"
   ]
  },
  {
   "cell_type": "code",
   "execution_count": 66,
   "id": "d680835c",
   "metadata": {},
   "outputs": [
    {
     "name": "stdout",
     "output_type": "stream",
     "text": [
      "Selective abortion, also known as selective reduction, refers to the process of choosing to abort a fetus, typically in a multi-fetal pregnancy, to decrease the health risks to the mother in carrying and giving birth to more than one or two babies, and also to decrease the risk of complications to the remaining fetus(es). \n",
      "\n",
      "This procedure is often recommended in cases of multi-fetal pregnancy, where there are at least three or more fetuses. The goal of selective reduction is to reduce the number of fetuses to a more manageable number, usually two, to improve the chances of a healthy pregnancy and birth.\n",
      "\n",
      "Selective abortion can also refer to choosing to abort a fetus for reasons such as the woman carrying a fetus that is likely to be born with a birth defect or impairment, or because the sex of the fetus is not preferred by the individual.\n",
      "\n",
      "The procedure is usually performed between 9 and 12 weeks of pregnancy and is most successful when performed in early pregnancy. It is a relatively simple procedure that can be performed on an outpatient basis, where a needle is inserted into the woman's stomach or vagina and potassium chloride is injected into the fetus.\n",
      "\n",
      "It's worth noting that selective reduction is a complex and sensitive issue, and individuals who undergo this procedure should receive counseling before and after the procedure to address any emotional or psychological concerns. Additionally, individuals should be made aware of the risks associated with multi-fetal pregnancy and the potential risks and complications of the selective reduction procedure.\n"
     ]
    }
   ],
   "source": [
    "response = chat_engine.chat(\"What is Selective Abortion?\")\n",
    "print(str(response))"
   ]
  },
  {
   "cell_type": "code",
   "execution_count": 67,
   "id": "ec2f9b80",
   "metadata": {},
   "outputs": [
    {
     "name": "stdout",
     "output_type": "stream",
     "text": [
      "According to the document, the precautions and risks associated with selective abortion are as follows:\n",
      "\n",
      "Precautions:\n",
      "Because women or couples who use fertility drugs have made an extra effort to become pregnant, it is possible that they may be unwilling or uncomfortable with the decision to abort a fetus in cases of multi-fetal pregnancy. Therefore, individuals engaging in fertility treatment should be made aware of the risk of multi-fetal pregnancy and consider the prospect of recommended reduction before undergoing fertility treatment.\n",
      "\n",
      "Risks:\n",
      "The document states that there are several risks associated with selective abortion, including:\n",
      "\n",
      "* About 75% of women who undergo selective reduction will go into premature labor.\n",
      "* About 4-5% of women undergoing selective reduction also miscarry one or more of the remaining fetuses.\n",
      "* The risks associated with multi-fetal pregnancy are considered higher.\n",
      "* Possible long-term risks include difficulty becoming pregnant or carrying a future pregnancy to term.\n",
      "\n",
      "It's also important to note that individuals who have chosen selective reduction should be counseled prior to the procedure and receive information regarding the risks of a multi-fetal pregnancy to both the fetuses and the mother compared with the risks after the reduction. Additionally, counseling should continue after the abortion, as it is a traumatic event, and mental health professionals should be consulted throughout the process.\n"
     ]
    }
   ],
   "source": [
    "response = chat_engine.chat(\"What are the precautions and risks?\")\n",
    "print(str(response))"
   ]
  },
  {
   "cell_type": "code",
   "execution_count": null,
   "id": "06666d5d",
   "metadata": {},
   "outputs": [],
   "source": []
  }
 ],
 "metadata": {
  "kernelspec": {
   "display_name": "streamlitenv",
   "language": "python",
   "name": "python3"
  },
  "language_info": {
   "codemirror_mode": {
    "name": "ipython",
    "version": 3
   },
   "file_extension": ".py",
   "mimetype": "text/x-python",
   "name": "python",
   "nbconvert_exporter": "python",
   "pygments_lexer": "ipython3",
   "version": "3.11.9"
  }
 },
 "nbformat": 4,
 "nbformat_minor": 5
}
